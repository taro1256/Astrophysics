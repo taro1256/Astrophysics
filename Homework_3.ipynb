{
 "cells": [
  {
   "cell_type": "markdown",
   "id": "c483d2a3",
   "metadata": {},
   "source": [
    "1. In 1977 the German X-ray astronomer J. Trumper observed the neutron star Hercules X-1. He found two emission lines, one at 55keV and the other at 110keV. He interpreted these as cyclotron emission from charged particles near the surface of a magnetized neutron star.\n",
    "\n",
    "a) Derive the strength of the magnetic field at the surface of the neutron star.\n",
    "\n",
    "b) What is the velocity of the electrons assuming they have a temperature of 108K? What is the radius of their orbit?\n",
    "\n",
    "c) What is the timescale for the decay of the electron orbit on this neutron star?\n",
    "\n",
    "d) At what frequency would the protons be emitting their cyclotron lines? What is the corresponding wavelength?\n",
    "\n",
    "e)What is the relative amount of power radiated by protons compared to electrons?\n",
    "\n",
    "\n",
    "2. The Crab Nebula is observed to emit x-rays having an energy of at least 100keV from an extended region.\n",
    "a. Compute the energy, lifetime, and Larmor radius of the electrons producing this radiation. Assume it is due to synchrotron radiation in a magnetic field of 10-8T.\n",
    "b. The nonthermal spectrum of the Crab exhibits a downward turn above 1015 Hz. Assuming this bend is due to lifetime losses, use the known age of the Crab (supernova in 1054 AD) to estimate the magnetic field strength."
   ]
  },
  {
   "cell_type": "markdown",
   "id": "d875de0a",
   "metadata": {},
   "source": []
  }
 ],
 "metadata": {
  "language_info": {
   "name": "python"
  }
 },
 "nbformat": 4,
 "nbformat_minor": 5
}
