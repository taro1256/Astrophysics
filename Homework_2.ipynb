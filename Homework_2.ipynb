{
 "cells": [
  {
   "cell_type": "markdown",
   "id": "a068cbb5",
   "metadata": {},
   "source": [
    "# Homework 2"
   ]
  },
  {
   "cell_type": "markdown",
   "id": "4a147e90",
   "metadata": {},
   "source": [
    "    1) UNITS\n",
    "\n",
    "a) Neutral hydrogen emits radio waves with a wavelength of 21cm. What is the frequency of this radiation?\n",
    "\n",
    "Using the speed of light equation, $c=\\nu \\lambda$, we can solve for what the frequency. It follows that, \n",
    "$$ 3*10^{8} {m/s}= \\nu * {0.21} m $$ $$\\nu = {3*10^8 (m/s)}/{0.21m}$$\n",
    "$$\\nu = 1.4*10^9 Hz$$\n",
    "\n",
    "b)What is the wavelength (in nm) of a 6keV x-ray?\n",
    "\n",
    " Since we know the energy we can use $\\Epsilon = h\\nu$ and the sub in for $\\nu$ with $c=\\nu *\\lambda$ solving for $\\nu$ to get $\\nu = c/ \\lambda$. This then gives us $$\\Epsilon = h* (c/\\lambda)$$, and plugging in the knowns we get, $$ 6000(eV) = 4.13 × 10^{-15} (eV*s) * ((3*10^8 (m/s))/\\lambda)$$. Then just solve for $\\lambda$ and we get $$\\lambda = 2.065*10^{-10} m$$, which is the same as 0.207 nm.\n",
    "\n",
    "c)An opaque spherical body of radius 100km has a uniform photon intensity of 1 ph/m2/s/Hz/st between 1014 and 1015Hz. At all other frequencies it does not emit. What is its luminosity in W?  (Note: to solve this you must either integrate across the band numerically, or perform an integral.  If you perform the integration, please write it out on paper, scan and upload.)"
   ]
  },
  {
   "cell_type": "code",
   "execution_count": null,
   "id": "1ec38721",
   "metadata": {
    "vscode": {
     "languageId": "plaintext"
    }
   },
   "outputs": [],
   "source": []
  },
  {
   "cell_type": "markdown",
   "id": "65dfe9b5",
   "metadata": {},
   "source": [
    "    2. An astronomer using a telescope discovers that a 12th magnitude star is actually a double binary consisting of four identical stars. What is the magnitude of each individual star?"
   ]
  },
  {
   "cell_type": "markdown",
   "id": "c1a60bb1",
   "metadata": {
    "vscode": {
     "languageId": "plaintext"
    }
   },
   "source": [
    "    3. After being struck by the phasers of an enemy starship, the Enterprise is left with a net negative charge of 1019 electrons. The Enterprise charges directly at its enemy, accelerating smoothly from rest to .33c in 5 seconds.\n",
    "\n",
    "a) How much energy does it radiate?\n",
    "\n",
    "b) How much of this flux does the enemy see?\n",
    "\n",
    "c) To avoid a collision the Enterprise ceases forward acceleration and starts the same acceleration perpendicular to its motion. What is the maximum flux the enemy could detect (in W/m2) at 1km separation? (Note: you do not have to use integrate the relativistic term.  Just use the max amount.)"
   ]
  },
  {
   "cell_type": "markdown",
   "id": "2cfe9ac0",
   "metadata": {},
   "source": [
    "    4. Create a function that calculates the Intensity of radiation as a function of theta for the case of col-linear relativistic velocity and acceleration.  Use it to plot the intensity (per steradian) as a function of theta from 0 to 2pi for the case of v=0.6c, q=1, a=108 m/s2.  Do it again at .99c."
   ]
  }
 ],
 "metadata": {
  "language_info": {
   "name": "python"
  }
 },
 "nbformat": 4,
 "nbformat_minor": 5
}
